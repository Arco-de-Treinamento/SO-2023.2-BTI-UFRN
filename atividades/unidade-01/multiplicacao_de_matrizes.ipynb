{
  "cells": [
    {
      "cell_type": "markdown",
      "metadata": {
        "tags": []
      },
      "source": [
        "## **Multiplicação de Matrizes:** Implementação _sequencial_, _Multithreading_ e _Multiprocessos_.\n",
        "\n",
        "***\n",
        "\n",
        "Este projeto visa observar as diferenças entre a implementação de algoritmos utilizando as abordagens sequencial, Multithreading e Multiprocessos, realizando testes de implementação e comparativos em termos de desempenho utilizando a linguagem **Python**, para a disciplina **Sistemas Operacionais** do curso de Bacharelado em Tecnologia da Informação, oferecido pela Universidade Federal do Rio Grande do Norte.\n",
        "\n",
        "**Desenvolvido por:** José Manoel Freitas da Silva\n",
        "\n",
        "***"
      ]
    },
    {
      "cell_type": "markdown",
      "metadata": {},
      "source": [
        "### **1. Introdução**\n",
        "\n",
        "A multiplicação de matrizes é uma operação fundamental em álgebra linear que desempenha um papel crucial em diversos campos da ciência da computação, engenharia e ciências exatas. Uma das principais vantagens da utilização desse método é a sua natureza altamente paralelizável, uma vez que multiplicação de matrizes é bastante suscetível à distribuição de tarefas, seja por meio de threads, em um ambiente multithread, ou por processos. Além disso, a multiplicação de matrizes pode ser escalada para grandes conjuntos de dados e dimensões, o que a torna relevante para problemas de alta complexidade encontrados em pesquisa científica e aplicações industriais.\n",
        "\n",
        "Desse modo, iremos utilizar de uma de suas propriedades, chamada **independência de dados**, que nos permite calcular cada elemento da matriz resultante de forma independente dos demais dados da matriz, para implementar diversos conceitos da multiprogramação e analisar questões fundamentais de desempenho e otimização algorítmica, ressaltando a sua importância prática e sua capacidade de aproveitar ao máximo os recursos computacionais modernos. "
      ]
    },
    {
      "cell_type": "markdown",
      "metadata": {},
      "source": [
        "### **2. Metodologia**\n",
        "\n",
        "Para esse projeto será feito 3 implementações, sendo elas:\n",
        "\n",
        "* Uma implementação **Sequencial**, sem a utilização de multiprocessos ou multithreading;\n",
        "* Uma implementação utilizando **Threads**;\n",
        "* Uma implementação utilizando **Processos**.\n",
        "\n",
        "Cada uma das implementações receberá duas matrizes **M1** e **M2** de tamanho **C**x**L** variados, com valores e dimensões randomizadas por meio de um algorítimo auxiliar implementado em **Python**. Para as implementações em multiprocessamento será utilizado ainda uma segunda variável **P**, que determina a quantidade de elementos que serão processados em cada thread ou processo criado, de modo a evitar problemas oriundos do excesso de processos abertos, frequentemente vistos em matrizes consideravelmente grandes.\n",
        "\n",
        "Para quantificar o desempenho de cada implementação será medido o tempo de execução em cada uma das metodologias, realizando a plotagem de gráficos de desempenho com o intuito de visualizar o **tempo médio geral** e o **tempo médio em função de P**."
      ]
    },
    {
      "cell_type": "markdown",
      "metadata": {},
      "source": [
        "### **3. Considerações iniciais**\n",
        "\n",
        "Nesse projeto, devido ao seu caráter analítico, será utilizado a linguagem de programação **Python**, aliada ao **Jupyter Notebook**, onde iremos observar o comportamento de diferentes formas de implementação de um mesmo algoritmo com o intuito de analisar as vantagens e desvantagens de **aplicações sequenciais** e **paralelas**.\n",
        "\n",
        "A escolha dessas duas ferramentas se deve ao fato de permitir produzir gráficos e relatórios com facilidade quando utilizadas em conjunto com algumas bibliotecas, como a _multiprocessing_, _threading_,_matplotlib_ e a _numpy_, que terá um papel fundamental na criação de objetos e elementos utilizados durante os testes."
      ]
    },
    {
      "cell_type": "markdown",
      "metadata": {},
      "source": [
        "### **4. Multiplicação de matrizes**"
      ]
    },
    {
      "cell_type": "markdown",
      "metadata": {},
      "source": [
        "#### **4.1. Operações entre matrizes**\n",
        "\n",
        "Uma matriz pode ser definida como uma estrutura matemática que organiza elementos em **linhas** e **colunas**, formando uma grade bidimensional. Nela cada elemento é identificado por sua posição única na matriz através do índice de linhas e colunas. Por exemplo, na matriz $A$, de dimensões 3x3, o elemento $A[i][j]$ é identificado pela linha $i$ e coluna $j$.\n",
        "\n",
        "\\begin{equation*}\n",
        "\n",
        "A = \\begin{bmatrix}\n",
        "1 & 2 & 3 \\\\\n",
        "4 & 5 & 6 \\\\\n",
        "7 & 8 & 9\n",
        "\n",
        "\\end{bmatrix}\n",
        "\n",
        "\\end{equation*}\n",
        "\n",
        "Assim, o elemento $A_{1,2}$ da matriz $A$ é igual a **2**.\n",
        "\n",
        "Essa estrutura também está suscetível a algumas operações, como a multiplicação entre matrizes, que será utilizada como objeto de estudo.\n",
        "\n",
        "A **multiplicação de matrizes** é uma operação que corresponde ao  produto de duas matrizes $A$ e $B$, para produzir uma terceira matriz $C$. Para calcular o elemento $C_{i,j}$ da matriz resultante $C$, devemos multiplicar os elementos da linha $i$ da matriz $A$ pelos elementos da coluna $j$ da matriz $B$, somando os produtos. Matematicamente, isso pode ser expresso como:\n",
        "\n",
        "\\begin{equation*}\n",
        "C_{i,j} = A_{i,1} \\cdot B_{1,j} + A_{i,2} \\cdot B_{2,j} + \\ldots + A_{i,n} \\cdot B_{n,j}\n",
        "\\end{equation*}\n",
        "\n",
        "Esse processo é repetido para todos os elementos da matriz resultante $C$, e o resultado é uma nova matriz que é o produto das matrizes $A$ e $B$, com a quantidade colunas de $A$ e linhas de $B$, assim como veremos nos algoritmos implementados a seguir."
      ]
    },
    {
      "cell_type": "markdown",
      "metadata": {},
      "source": [
        "### **5. Algoritmos e implementações** "
      ]
    },
    {
      "cell_type": "markdown",
      "metadata": {},
      "source": [
        "#### **5.1. Importando recursos**\n",
        "\n",
        "Para a implementação dos algoritmos a seguir utilizaremos as seguintes bibliotecas:\n",
        "\n",
        "* **numpy:** Biblioteca em Python que fornece suporte para arrays multidimensionais e funções matemáticas de alto desempenho para manipulação de dados numéricos;\n",
        "* **numba:** Biblioteca em Python que oferece uma forma de acelerar código Python usando compilação just-in-time (JIT);\n",
        "* **multiprocessing:** Biblioteca em Python que fornece suporte para a criação e gerenciamento de processos paralelos, permitindo que tarefas sejam executadas concorrentemente;\n",
        "* **time:** Biblioteca em Python utilizada para lidar com operações relacionadas ao tempo, como o tempo de execução de algoritmos;"
      ]
    },
    {
      "cell_type": "code",
      "execution_count": 96,
      "metadata": {
        "trusted": true
      },
      "outputs": [],
      "source": [
        "import numba as nb\n",
        "import numpy as np\n",
        "import multiprocessing as mp\n",
        "import time"
      ]
    },
    {
      "cell_type": "markdown",
      "metadata": {},
      "source": [
        "#### **5.2. Criando matrizes**\n",
        "\n",
        "Nesse estudo serão utilizadas matrizes de inteiros construídas de forma randômica através da função **_get_random_matrix_**, que utiliza a função **_random_**, da biblioteca **NumPy**. Para fins de estudos todos os elementos irão possuir um valor fixado entre 1 e 10. Além das matrizes randômicas, também iremos utilizar matrizes inicializadas com zeros por meio da função **_initialize_matrix_**, necessária para garantir que todos os elementos da matriz resultante tenham um valor inicial conhecido e consistente.\n",
        "\n",
        "Vale ressaltar que para ocorrer a multiplicação entre matrizes a quantidade de linhas de $A$ e colunas de $B$ deve possuir o mesmo valor, seguindo a propriedade a seguir:\n",
        "\n",
        "\\begin{equation*}\n",
        "[A_{m \\times n}] \\cdot [B_{n \\times p}] = [C_{m \\times p}]\n",
        "\\end{equation*}\n",
        "\n",
        "Desse modo, para satisfazer essa condição, iremos utilizar a variável **_cond_** para garantir que ambas as matrizes criadas obedeçam essa propriedade."
      ]
    },
    {
      "cell_type": "code",
      "execution_count": 97,
      "metadata": {
        "trusted": true
      },
      "outputs": [],
      "source": [
        "# Cria matrizes aleatórias com valores 1 e 10\n",
        "def get_random_matrix(rows, cols):\n",
        "    return np.random.randint(1, 11, size = (rows, cols))"
      ]
    },
    {
      "cell_type": "code",
      "execution_count": 98,
      "metadata": {},
      "outputs": [],
      "source": [
        "# Limite para o tamanho das matrizes\n",
        "limit = 100\n",
        "\n",
        "# Condição para existencia do produto\n",
        "cond = np.random.randint(2, limit)\n",
        "\n",
        "# Cria matrizes de tamanhos aleatórios\n",
        "matrix1 = get_random_matrix(np.random.randint(2, limit), cond)\n",
        "matrix2 = get_random_matrix(cond, np.random.randint(2, limit))"
      ]
    },
    {
      "cell_type": "markdown",
      "metadata": {},
      "source": [
        "#### **5.3. Matriz resultante**\n",
        "\n",
        "Com a finalidade de facilitar a visualização de cada resultado em diferentes implementações, será utilizado um objeto **_Resultante_** para armazenar os dados obtidos em cada execução, composto por:\n",
        "\n",
        "* **matrix:** matriz resultante;\n",
        "* **process_time:** tempo de execução;\n",
        "* **P:** quantidade de elementos que serão processados em cada thread ou processo criado.\n",
        "\n",
        "Onde **_P_** receberá valor **-1** caso seja uma execução sequencial."
      ]
    },
    {
      "cell_type": "code",
      "execution_count": 99,
      "metadata": {},
      "outputs": [],
      "source": [
        "class operation_result:\n",
        "    def __init__(self, matrix, process_time, P = -1):\n",
        "        self.matrix = matrix\n",
        "        self.process_time = process_time\n",
        "        self.P = P"
      ]
    },
    {
      "cell_type": "markdown",
      "metadata": {},
      "source": [
        "### **6. Implementação Sequencial**\n",
        "\n",
        "A implementação sequencial a seguir é responsável por multiplicar duas matrizes, **_matrix1_** e **_matrix2_**, de acordo com o algoritmo tradicional de multiplicação utilizando três loops aninhados. O primeiro loop (**_i_**) itera pelas linhas da matriz resultante, o segundo loop (**_j_**) itera pelas colunas da matriz resultante e o terceiro loop (**_k_**) itera pelas colunas da primeira matriz e pelas linhas da segunda matriz. Durante cada iteração, os elementos correspondentes das matrizes de entrada são multiplicados e acumulados no elemento correspondente da matriz resultante.\n",
        "\n",
        "Após a conclusão da multiplicação, o tempo total de execução é calculado e é retornado um objeto **_Resultante_** que contém a matriz resultante e o tempo total de execução."
      ]
    },
    {
      "cell_type": "code",
      "execution_count": 100,
      "metadata": {},
      "outputs": [],
      "source": [
        "def sequential_multiplication(matrix1, matrix2):\n",
        "    # Inicializa a matriz resultante com 0's\n",
        "    result = np.zeros((matrix1.shape[0], matrix2.shape[1]))\n",
        "    \n",
        "    start = time.time()\n",
        "\n",
        "    # Realiza a multiplicação de matrizes\n",
        "    for i in range(matrix1.shape[0]):\n",
        "        for j in range(matrix2.shape[1]):\n",
        "            for k in range(matrix1.shape[1]):\n",
        "                result[i][j] += matrix1[i][k] * matrix2[k][j]\n",
        "                \n",
        "    end = time.time()\n",
        "    total_time = end - start\n",
        "\n",
        "    # Cria o objeto resultante\n",
        "    return operation_result(result, total_time)"
      ]
    },
    {
      "cell_type": "markdown",
      "metadata": {},
      "source": [
        "### **7. Implementação com Threads**"
      ]
    },
    {
      "cell_type": "markdown",
      "metadata": {},
      "source": [
        "#### **7.1. Multithread e o Global Interpreter Lock (GIL)**\n",
        "\n",
        "O Python possui uma maneira diferente de lidar com variáveis criadas em ambiente, considerando-as apenas como uma marcação para referência do local em memória. Assim, ao atribuir novas variáveis, o que realmente ocorre é apenas uma passagem de endereços em memória, sem uma tipagem real.\n",
        "\n",
        "Essa abordagem permitiu ao Python adquirir flexibilidade com a passagem e atribuição de variáveis, no entanto, também acarretou num sério problema de memory safety, observável quando dois ou mais processos tentam acessar a mesma variável, causando uma condição de corrida.\n",
        "\n",
        "Para solucionar o problema anterior sem perder a flexibilidade, o Python optou por implementar o Python Global Interpreter Lock (GIL), que funciona como um bloqueio de processo, utilizado para garantir a integridade da aplicação que está sendo executada ao travar parte da aplicação para garantir que apenas uma chamada tenha acesso à memória por vez. Desse modo, ao bloquear parte da execução do programa também temos uma perda significativa de desempenho ao executar processos em multithread, uma vez que teremos uma série de interrupções, resultando num desempenho semelhante a uma aplicação single-thread."
      ]
    },
    {
      "cell_type": "markdown",
      "metadata": {},
      "source": [
        "#### **7.2. Biblioteca Numba**\n",
        "\n",
        "Para contornar o uso do GIL e permitir o processamento em multithread é comum recorrer técnicas e bibliotecas que ofereçam um compilador alternativo, como o Numba. O Numba é uma biblioteca que traz um compilador just-in-time (JIT) para o Python, projetado para melhorar o desempenho de aplicações compilando o código-fonte diretamente para código de máquina em tempo de execução, usando a infraestrutura do compilador LLVM (Low Level Virtual Machine). \n",
        "\n",
        "Essa prática permite alcançar desempenho semelhante ao C ou C++ sem a necessidade de alterar o código inicial, além de também suportar aceleração por GPU, como a utiliza na API CUDA, da NVidea. \n",
        "\n",
        "Para utilizar a biblioteca Numba devemos adicionar um decorator _@jit_, que designa que a função deve ser compilada através do JIT, além de conter outros atributos, sendo eles:\n",
        "\n",
        "* **_noPython:_** Sinaliza que a função deve ser executada sem utilizar o interpretador padrão do Python;\n",
        "* **_nogil:_** Indica que o GIL deve ser liberado durante a execução, alcançando o uso efetivo das múltiplas threads do sistema;\n",
        "* **_parallel:_** Sinaliza que a função deve utilizar execução paralela;\n",
        "* **_cache:_** Explicita que o compilador deve armazenara função em memória cache, evitando que o código seja recompilado em execuções posteriores.\n",
        "\n",
        "O Numba por padrão está configurado para utilizar o máximo de threads disponíveis no sistema, descartando a necessidade de configurá-las. Ao final o decorator deve possuir uma sintaxe semelhante a apresentada a seguir:\n",
        "\n",
        "~~~python\n",
        "@nb.jit(nopython=True, parallel=True, nogil=True, cache=True)\n",
        "def multiply_submatrix(submatrix1, submatrix2):\n",
        "~~~"
      ]
    },
    {
      "cell_type": "markdown",
      "metadata": {},
      "source": [
        "#### **7.3. Implementação em Python**\n",
        "\n",
        "A implementação do algoritmo de multiplicação de matrizes com threads segue uma abordagem que utiliza a biblioteca Numba para contornar as limitações do Python, incluindo o Global Interpreter Lock (GIL), que impede a execução simultânea de código Python por várias threads.\n",
        "\n",
        "O código foi dividido em duas funções, sendo **_multiply_submatrix_** a função é responsável por realizar a multiplicação de submatrizes de forma paralela com a paralelização do Numba e a **_parallel_multiplication_**, que realiza a multiplicação de matrizes em paralelo dividindo o cálculo em blocos de tamanho PxP de submatrizes, que ao final são combinadas para formar a matriz resultante final."
      ]
    },
    {
      "cell_type": "code",
      "execution_count": 101,
      "metadata": {},
      "outputs": [],
      "source": [
        "@nb.jit(nopython=True, parallel=True, nogil=True, cache=True)\n",
        "def thread_submatrix(submatrix1, submatrix2):\n",
        "    # Inicializa a matriz resultante com 0's\n",
        "    subresult = np.zeros((submatrix1.shape[0], submatrix2.shape[1]))\n",
        "\n",
        "    # Multiplicação otilizada pelo numba\n",
        "    for i in nb.prange(submatrix1.shape[0]):\n",
        "        for j in nb.prange(submatrix2.shape[1]):\n",
        "            for k in range(submatrix1.shape[1]):\n",
        "                subresult[i][j] += submatrix1[i][k] * submatrix2[k][j]\n",
        "    \n",
        "    return subresult"
      ]
    },
    {
      "cell_type": "code",
      "execution_count": 102,
      "metadata": {},
      "outputs": [],
      "source": [
        "def threading_multiplication(matrix1, matrix2, P):\n",
        "    # Inicializa a matriz resultante com 0's\n",
        "    result = np.zeros((matrix1.shape[0], matrix2.shape[1]))\n",
        "    \n",
        "    start = time.time()\n",
        "\n",
        "    # Determina a quantidade de linhas da submatriz (divisão inteira)\n",
        "    block_size_row = matrix1.shape[0] // P\n",
        "\n",
        "    for i in range(P):\n",
        "        # Determina os índices de inicio e fim das linhas das submatrizes\n",
        "        row_start = i * block_size_row\n",
        "        row_end = (i + 1) * block_size_row if i != (P - 1) else matrix1.shape[0]\n",
        "\n",
        "        result[row_start:row_end, :] = thread_submatrix(matrix1[row_start:row_end, :], matrix2)\n",
        "    \n",
        "    end = time.time()\n",
        "    total_time = end - start\n",
        "\n",
        "    # Cria o objeto resultante\n",
        "    return operation_result(result, total_time, P)"
      ]
    },
    {
      "cell_type": "markdown",
      "metadata": {},
      "source": [
        "#### **7.4. Aquecimento**\n",
        "\n",
        "A primeira vez que uma função JIT é chamada, ela é compilada para código de máquina, deixando a primeira execução mais lenta, apesar de que todas as chamadas subsequentes serão muito mais rápidas. Para evitar esse tempo de compilação na primeira execução e criada uma rotina de aquecimento, que permite compilar a função antes da primeira execução ocorrer.\n",
        "\n",
        "~~~python\n",
        "# Pré-compilação da função thread_submatrix\n",
        "thread_submatrix(np.ones((10, 10)), np.ones((10, 10)))\n",
        "~~~"
      ]
    },
    {
      "cell_type": "markdown",
      "metadata": {},
      "source": [
        "### **8. Implementação com processos**\n",
        "\n",
        "A implementação com processos em Python utiliza a biblioteca multiprocessing, que torna possível dividir o trabalho em várias tarefas independentes que podem ser executadas simultaneamente em diferentes processadores.\n",
        "\n",
        "Para facilitar a implementação foi criada a classe **_SubmatrixResult_**, que é usada para armazenar o resultado de uma submatriz e suas coordenadas na matriz resultante. Por sua vez, a função multiprocessing_submatrix realiza a multiplicação das duas submatrizes criando um processo separado para cada par de submatrizes e coloca o resultado na fila **_result_queue_**."
      ]
    },
    {
      "cell_type": "code",
      "execution_count": 103,
      "metadata": {},
      "outputs": [],
      "source": [
        "class suboperation_result:\n",
        "    def __init__(self, submatrix, row, col):\n",
        "        self.submatrix = submatrix\n",
        "        self.row = row\n",
        "        self.col = col"
      ]
    },
    {
      "cell_type": "code",
      "execution_count": 104,
      "metadata": {},
      "outputs": [],
      "source": [
        "def process_submatrix(submatrix1, submatrix2, row, col, result_queue):\n",
        "    # Inicializa a submatriz resultante com 0's\n",
        "    subresult = np.zeros((submatrix1.shape[0], submatrix2.shape[1]))\n",
        "\n",
        "    for i in range(submatrix1.shape[0]):\n",
        "        for j in range(submatrix2.shape[1]):\n",
        "            for k in range(submatrix1.shape[1]):\n",
        "                subresult[i][j] += submatrix1[i][k] * submatrix2[k][j]\n",
        "\n",
        "    # Adiciona o objeto resultante a fila de processos\n",
        "    result_queue.put(suboperation_result(subresult, row, col))"
      ]
    },
    {
      "cell_type": "code",
      "execution_count": 105,
      "metadata": {},
      "outputs": [],
      "source": [
        "def multiprocessing_multiplication(matrix1, matrix2, P):\n",
        "    # Inicializa a matriz resultante com 0's\n",
        "    result = np.zeros((matrix1.shape[0], matrix2.shape[1]))\n",
        "    \n",
        "    start_time = time.time()\n",
        "    \n",
        "    # Queue de saída dos processos\n",
        "    result_queue = mp.Queue()\n",
        "    processes = []\n",
        "    \n",
        "    # Determina a quantidade de linhas da submatriz (divisão inteira)\n",
        "    block_size_row = matrix1.shape[0] // P\n",
        "\n",
        "    # Cria os processo e adiciona a lista processes\n",
        "    for i in range(P):\n",
        "        # Determina os índices de inicio e fim das linhas das submatrizes\n",
        "        row_start = i * block_size_row\n",
        "        row_end = (i + 1) * block_size_row if i != (P - 1) else matrix1.shape[0]\n",
        "      \n",
        "        process = mp.Process(name=\"Process submatrix {i}\",\n",
        "                             target=process_submatrix, \n",
        "                             args=(matrix1[row_start:row_end, :], matrix2, row_start, 0, result_queue))\n",
        "        processes.append(process)\n",
        "\n",
        "    # Inicializa todos os processos \n",
        "    for process in processes:\n",
        "        process.start()\n",
        "\n",
        "    # Bloqueia o programa até que todos os processos tenham terminado\n",
        "    for process in processes:\n",
        "        process.join()\n",
        "\n",
        "    # Garante que todos os processo vão terminar corretamente\n",
        "    for process in processes:\n",
        "        process.terminate()\n",
        "\n",
        "    # Monta a matriz resultante\n",
        "    while not result_queue.empty():\n",
        "        process_result = result_queue.get()\n",
        "        submatrix = process_result.submatrix\n",
        "\n",
        "        # Determina os índices de inicio e fim das linhas da matriz resultante\n",
        "        row_start = process_result.row\n",
        "        row_end = row_start + submatrix.shape[0]\n",
        "\n",
        "        result[row_start:row_end, :] = submatrix\n",
        "\n",
        "    end_time = time.time()\n",
        "    total_time = end_time - start_time\n",
        "\n",
        "    # Cria o objeto resultante\n",
        "    return operation_result(result, total_time, P)"
      ]
    },
    {
      "cell_type": "code",
      "execution_count": 106,
      "metadata": {},
      "outputs": [
        {
          "name": "stdout",
          "output_type": "stream",
          "text": [
            "\n",
            " Matrizes\n",
            "(78, 78)\n",
            "(78, 40)\n",
            "\n",
            " Multithread\n",
            "[[2699. 2616. 2525. ... 2304. 2252. 2603.]\n",
            " [2479. 2489. 2456. ... 2414. 2129. 2509.]\n",
            " [2581. 2633. 2556. ... 2437. 2055. 2589.]\n",
            " ...\n",
            " [2720. 2687. 2558. ... 2474. 2190. 2640.]\n",
            " [2281. 2266. 2190. ... 2120. 1801. 2178.]\n",
            " [2339. 2224. 2168. ... 2054. 1988. 2115.]]\n",
            "0.18901371955871582\n",
            "\n",
            " Multiprocessos\n",
            "[[2699. 2616. 2525. ... 2304. 2252. 2603.]\n",
            " [2479. 2489. 2456. ... 2414. 2129. 2509.]\n",
            " [2581. 2633. 2556. ... 2437. 2055. 2589.]\n",
            " ...\n",
            " [2720. 2687. 2558. ... 2474. 2190. 2640.]\n",
            " [2281. 2266. 2190. ... 2120. 1801. 2178.]\n",
            " [2339. 2224. 2168. ... 2054. 1988. 2115.]]\n",
            "1.2741649150848389\n",
            "\n",
            " Sequencial\n",
            "[[2699. 2616. 2525. ... 2304. 2252. 2603.]\n",
            " [2479. 2489. 2456. ... 2414. 2129. 2509.]\n",
            " [2581. 2633. 2556. ... 2437. 2055. 2589.]\n",
            " ...\n",
            " [2720. 2687. 2558. ... 2474. 2190. 2640.]\n",
            " [2281. 2266. 2190. ... 2120. 1801. 2178.]\n",
            " [2339. 2224. 2168. ... 2054. 1988. 2115.]]\n",
            "3.415609121322632\n"
          ]
        }
      ],
      "source": [
        "print(\"\\n Matrizes\")\n",
        "print(matrix1.shape)\n",
        "print(matrix2.shape)\n",
        "\n",
        "result = threading_multiplication(matrix1, matrix2, 5)\n",
        "print(\"\\n Multithread\")\n",
        "print(result.matrix)\n",
        "print(result.process_time)\n",
        "\n",
        "result_2 = multiprocessing_multiplication(matrix1, matrix2, 5)\n",
        "print(\"\\n Multiprocessos\")\n",
        "print(result_2.matrix)\n",
        "print(result_2.process_time)\n",
        "\n",
        "result_3 = sequential_multiplication(matrix1, matrix2)\n",
        "print(\"\\n Sequencial\")\n",
        "print(result_3.matrix)\n",
        "print(result_3.process_time)"
      ]
    }
  ],
  "metadata": {
    "kernelspec": {
      "display_name": "Python 3",
      "language": "python",
      "name": "python3"
    },
    "language_info": {
      "codemirror_mode": {
        "name": "ipython",
        "version": 3
      },
      "file_extension": ".py",
      "mimetype": "text/x-python",
      "name": "python",
      "nbconvert_exporter": "python",
      "pygments_lexer": "ipython3",
      "version": "3.11.5"
    }
  },
  "nbformat": 4,
  "nbformat_minor": 4
}
