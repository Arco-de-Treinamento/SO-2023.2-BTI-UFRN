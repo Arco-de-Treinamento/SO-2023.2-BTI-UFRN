{
 "cells": [
  {
   "cell_type": "markdown",
   "metadata": {
    "tags": []
   },
   "source": [
    "## **Multiplicação de Matrizes:** Implementação _sequencial_, _Multithreading_ e _Multiprocessos_.\n",
    "\n",
    "***\n",
    "\n",
    "Este projeto visa observar as diferenças entre a implementação de algoritmos utilizando as abordagens sequencial, Multithreading e Multiprocessos, realizando testes de implementação e comparativos em termos de desempenho utilizando a linguagem **Python**, para a disciplina **Sistemas Operacionais** do curso de Bacharelado em Tecnologia da Informação, oferecido pela Universidade Federal do Rio Grande do Norte.\n",
    "\n",
    "**Desenvolvido por:** José Manoel Freitas da Silva\n",
    "\n",
    "***"
   ]
  },
  {
   "cell_type": "markdown",
   "metadata": {},
   "source": [
    "### **1. Introdução**\n",
    "\n",
    "A multiplicação de matrizes é uma operação fundamental em álgebra linear que desempenha um papel crucial em diversos campos da ciência da computação, engenharia e ciências exatas. Uma das principais vantagens da utilização desse método é a sua natureza altamente paralelizável, uma vez que multiplicação de matrizes é bastante suscetível à distribuição de tarefas, seja por meio de threads, em um ambiente multithread, ou por processos. Além disso, a multiplicação de matrizes pode ser escalada para grandes conjuntos de dados e dimensões, o que a torna relevante para problemas de alta complexidade encontrados em pesquisa científica e aplicações industriais.\n",
    "\n",
    "Desse modo, iremos utilizar de uma de suas propriedades, chamada **independência de dados**, que nos permite calcular cada elemento da matriz resultante de forma independente dos demais dados da matriz, para implementar diversos conceitos da multiprogramação e analisar questões fundamentais de desempenho e otimização algorítmica, ressaltando a sua importância prática e sua capacidade de aproveitar ao máximo os recursos computacionais modernos. "
   ]
  },
  {
   "cell_type": "markdown",
   "metadata": {},
   "source": [
    "### **2. Metodologia**\n",
    "\n",
    "Para esse projeto será feito 3 implementações, sendo elas:\n",
    "\n",
    "* Uma implementação **Sequencial**, sem a utilização de multiprocessos ou multithreading;\n",
    "* Uma implementação utilizando **Threads**;\n",
    "* Uma implementação utilizando **Processos**.\n",
    "\n",
    "Cada uma das implementações receberá duas matrizes **M1** e **M2** de tamanho **C**x**L** variados, com valores e dimensões randomizadas por meio de um algorítimo auxiliar implementado em **Python**. Para as implementações em multiprocessamento será utilizado ainda uma segunda variável **P**, que determina a quantidade de elementos que serão processados em cada thread ou processo criado, de modo a evitar problemas oriundos do excesso de processos abertos, frequentemente vistos em matrizes consideravelmente grandes.\n",
    "\n",
    "Para quantificar o desempenho de cada implementação será medido o tempo de execução em cada uma das metodologias, realizando a plotagem de gráficos de desempenho com o intuito de visualizar o **tempo médio geral** e o **tempo médio em função de P**."
   ]
  },
  {
   "cell_type": "markdown",
   "metadata": {},
   "source": [
    "### **3. Considerações iniciais**\n",
    "\n",
    "Nesse projeto, devido ao seu caráter analítico, será utilizado a linguagem de programação **Python**, aliada ao **Jupyter Notebook**, onde iremos observar o comportamento de diferentes formas de implementação de um mesmo algoritmo com o intuito de analisar as vantagens e desvantagens de **aplicações sequencias** e **paralelas**.\n",
    "\n",
    "A escolha dessas duas ferramentas se deve ao fato de permitir produzir gráficos e relatórios com facilidade quando utilizadas em conjunto com algumas bibliotecas, como a _multiprocessing_, _threading_,_matplotlib_ e a _numpy_, que terá um papel fundamental na criação de objetos e elementos utilizados durante os testes."
   ]
  },
  {
   "cell_type": "markdown",
   "metadata": {},
   "source": [
    "### **4. Multiplicação de matrizes**"
   ]
  },
  {
   "cell_type": "markdown",
   "metadata": {},
   "source": [
    "#### **4.1 Operações entre matrizes**\n",
    "\n",
    "Uma matriz pode ser definida como uma estrutura matemática que organiza elementos em **linhas** e **colunas**, formando uma grade bidimensional. Nela cada elemento é identificado por sua posição única na matriz através do índice de linhas e colunas. Por exemplo, na matriz $A$, de dimensões 3x3, o elemento $A[i][j]$ é identificado pela linha $i$ e coluna $j$.\n",
    "\n",
    "\\begin{equation*}\n",
    "\n",
    "A = \\begin{bmatrix}\n",
    "1 & 2 & 3 \\\\\n",
    "4 & 5 & 6 \\\\\n",
    "7 & 8 & 9\n",
    "\n",
    "\\end{bmatrix}\n",
    "\n",
    "\\end{equation*}\n",
    "\n",
    "Assim, o elemento $A_{1,2}$ da matriz $A$ é igual a **2**.\n",
    "\n",
    "Essa estrutura também está suscetível a algumas operações, como a multiplicação entre matrizes, que será utilizada como objeto de estudo.\n",
    "\n",
    "A **multiplicação de matrizes** é uma operação que corresponde ao  produto de duas matrizes $A$ e $B$, para produzir uma terceira matriz $C$. Para calcular o elemento $C_{i,j}$ da matriz resultante $C$, devemos multiplicar os elementos da linha $i$ da matriz $A$ pelos elementos da coluna $j$ da matriz $B$, somando os produtos. Matematicamente, isso pode ser expresso como:\n",
    "\n",
    "\\begin{equation*}\n",
    "C_{i,j} = A_{i,1} \\cdot B_{1,j} + A_{i,2} \\cdot B_{2,j} + \\ldots + A_{i,n} \\cdot B_{n,j}\n",
    "\\end{equation*}\n",
    "\n",
    "Esse processo é repetido para todos os elementos da matriz resultante $C$, e o resultado é uma nova matriz que é o produto das matrizes $A$ e $B$, com a quantidade colunas de $A$ e linhas de $B$, assim como veremos nos algoritmos implementados a seguir."
   ]
  },
  {
   "cell_type": "markdown",
   "metadata": {},
   "source": [
    "#### **4.2 Algoritmos e implementações** "
   ]
  },
  {
   "cell_type": "markdown",
   "metadata": {},
   "source": [
    "##### **4.2.1 Importando recursos**\n",
    "\n",
    "Para a implementação dos algoritmos a seguir utilizaremos as seguintes bibliotecas:\n",
    "\n",
    "* **NumPy:** Biblioteca em Python que fornece suporte para arrays multidimensionais e funções matemáticas de alto desempenho para manipulação de dados numéricos;"
   ]
  },
  {
   "cell_type": "code",
   "execution_count": 104,
   "metadata": {},
   "outputs": [],
   "source": [
    "import numpy as np"
   ]
  },
  {
   "cell_type": "markdown",
   "metadata": {},
   "source": [
    "##### **4.2.2 Criando matrizes**\n",
    "\n",
    "Nesse estudo serão utilizadas matrizes de inteiros construídas de forma randômica através da função **_get_random_matrix_**, que utiliza a função **_random_**, da biblioteca **NumPy**. Para fins de estudos todos os elementos irão possuir um valor fixado entre 1 e 10. Além das matrizes randômicas, também iremos utilizar matrizes inicializadas com zeros por meio da função **_initialize_matrix_**, necessária para garantir que todos os elementos da matriz resultante tenham um valor inicial conhecido e consistente.\n",
    "\n",
    "Vale ressaltar que para ocorrer a multiplicação entre matrizes a quantidade de linhas de $A$ e colunas de $B$ deve possuir o mesmo valor, seguindo a propriedade a seguir:\n",
    "\n",
    "\\begin{equation*}\n",
    "[A_{m \\times n}] \\cdot [B_{n \\times p}] = [C_{m \\times p}]\n",
    "\\end{equation*}\n",
    "\n",
    "Desse modo, para satisfazer essa condição, iremos utilizar a variável **_cond_** para garantir que ambas as matrizes criadas obedeçam essa propriedade."
   ]
  },
  {
   "cell_type": "code",
   "execution_count": 105,
   "metadata": {},
   "outputs": [],
   "source": [
    "def get_random_matrix(rows, cols):\n",
    "    # Cria matrizes aleatórias com valores 1 e 10\n",
    "    return np.random.randint(1, 11, size = (rows, cols))"
   ]
  },
  {
   "cell_type": "code",
   "execution_count": 106,
   "metadata": {},
   "outputs": [],
   "source": [
    "def initialize_matrix(rows, cols):\n",
    "    return np.zeros((rows, cols))"
   ]
  },
  {
   "cell_type": "code",
   "execution_count": 107,
   "metadata": {},
   "outputs": [
    {
     "name": "stdout",
     "output_type": "stream",
     "text": [
      "Matriz 1 de tamanho (3, 2)\n",
      "[[8 8]\n",
      " [4 4]\n",
      " [4 4]]\n",
      "\n",
      "\n",
      "Matriz 2 de tamanho (2, 4)\n",
      "[[6 8 2 7]\n",
      " [5 9 7 9]]\n"
     ]
    }
   ],
   "source": [
    "# Limite para o tamanho das matrizes\n",
    "limit = 5\n",
    "\n",
    "# Condição para existencia do produto\n",
    "cond = np.random.randint(2, limit)\n",
    "\n",
    "# Cria as matrizes aleatórias\n",
    "matrix1 = get_random_matrix(np.random.randint(2, limit), cond)\n",
    "matrix2 = get_random_matrix(cond, np.random.randint(2, limit))\n",
    "\n",
    "# Imprima as matrizes\n",
    "print(\"Matriz 1 de tamanho\", matrix1.shape)\n",
    "print(matrix1)\n",
    "print(\"\\n\")\n",
    "print(\"Matriz 2 de tamanho\", matrix2.shape)\n",
    "print(matrix2)\n"
   ]
  }
 ],
 "metadata": {
  "kernelspec": {
   "display_name": "Python 3",
   "language": "python",
   "name": "python3"
  },
  "language_info": {
   "codemirror_mode": {
    "name": "ipython",
    "version": 3
   },
   "file_extension": ".py",
   "mimetype": "text/x-python",
   "name": "python",
   "nbconvert_exporter": "python",
   "pygments_lexer": "ipython3",
   "version": "3.11.5"
  },
  "orig_nbformat": 4
 },
 "nbformat": 4,
 "nbformat_minor": 2
}
