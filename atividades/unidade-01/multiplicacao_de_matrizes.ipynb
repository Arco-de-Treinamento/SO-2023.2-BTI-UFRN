{
  "cells": [
    {
      "cell_type": "markdown",
      "metadata": {
        "tags": []
      },
      "source": [
        "## **Multiplicação de Matrizes:** Implementação _sequencial_, _Multithreading_ e _Multiprocessos_.\n",
        "\n",
        "***\n",
        "\n",
        "Este projeto visa observar as diferenças entre a implementação de algoritmos utilizando as abordagens sequencial, Multithreading e Multiprocessos, realizando testes de implementação e comparativos em termos de desempenho utilizando a linguagem **Python**, para a disciplina **Sistemas Operacionais** do curso de Bacharelado em Tecnologia da Informação, oferecido pela Universidade Federal do Rio Grande do Norte.\n",
        "\n",
        "**Desenvolvido por:** José Manoel Freitas da Silva\n",
        "\n",
        "***"
      ]
    },
    {
      "cell_type": "markdown",
      "metadata": {},
      "source": [
        "### **1. Introdução**\n",
        "\n",
        "A multiplicação de matrizes é uma operação fundamental em álgebra linear que desempenha um papel crucial em diversos campos da ciência da computação, engenharia e ciências exatas. Uma das principais vantagens da utilização desse método é a sua natureza altamente paralelizável, uma vez que multiplicação de matrizes é bastante suscetível à distribuição de tarefas, seja por meio de threads, em um ambiente multithread, ou por processos. Além disso, a multiplicação de matrizes pode ser escalada para grandes conjuntos de dados e dimensões, o que a torna relevante para problemas de alta complexidade encontrados em pesquisa científica e aplicações industriais.\n",
        "\n",
        "Desse modo, iremos utilizar de uma de suas propriedades, chamada **independência de dados**, que nos permite calcular cada elemento da matriz resultante de forma independente dos demais dados da matriz, para implementar diversos conceitos da multiprogramação e analisar questões fundamentais de desempenho e otimização algorítmica, ressaltando a sua importância prática e sua capacidade de aproveitar ao máximo os recursos computacionais modernos. "
      ]
    },
    {
      "cell_type": "markdown",
      "metadata": {},
      "source": [
        "### **2. Metodologia**\n",
        "\n",
        "Para esse projeto será feito 3 implementações, sendo elas:\n",
        "\n",
        "* Uma implementação **Sequencial**, sem a utilização de multiprocessos ou multithreading;\n",
        "* Uma implementação utilizando **Threads**;\n",
        "* Uma implementação utilizando **Processos**.\n",
        "\n",
        "Cada uma das implementações receberá duas matrizes **M1** e **M2** de tamanho **C**x**L** variados, com valores e dimensões randomizadas por meio de um algorítimo auxiliar implementado em **Python**. Para as implementações em multiprocessamento será utilizado ainda uma segunda variável **P**, que determina a quantidade de elementos que serão processados em cada thread ou processo criado, de modo a evitar problemas oriundos do excesso de processos abertos, frequentemente vistos em matrizes consideravelmente grandes.\n",
        "\n",
        "Para quantificar o desempenho de cada implementação será medido o tempo de execução em cada uma das metodologias, realizando a plotagem de gráficos de desempenho com o intuito de visualizar o **tempo médio geral** e o **tempo médio em função de P**."
      ]
    },
    {
      "cell_type": "markdown",
      "metadata": {},
      "source": [
        "### **3. Considerações iniciais**\n",
        "\n",
        "Nesse projeto, devido ao seu caráter analítico, será utilizado a linguagem de programação **Python**, aliada ao **Jupyter Notebook**, onde iremos observar o comportamento de diferentes formas de implementação de um mesmo algoritmo com o intuito de analisar as vantagens e desvantagens de **aplicações sequenciais** e **paralelas**.\n",
        "\n",
        "A escolha dessas duas ferramentas se deve ao fato de permitir produzir gráficos e relatórios com facilidade quando utilizadas em conjunto com algumas bibliotecas, como a _multiprocessing_, _threading_,_matplotlib_ e a _numpy_, que terá um papel fundamental na criação de objetos e elementos utilizados durante os testes."
      ]
    },
    {
      "cell_type": "markdown",
      "metadata": {},
      "source": [
        "### **4. Multiplicação de matrizes**"
      ]
    },
    {
      "cell_type": "markdown",
      "metadata": {},
      "source": [
        "#### **4.1. Operações entre matrizes**\n",
        "\n",
        "Uma matriz pode ser definida como uma estrutura matemática que organiza elementos em **linhas** e **colunas**, formando uma grade bidimensional. Nela cada elemento é identificado por sua posição única na matriz através do índice de linhas e colunas. Por exemplo, na matriz $A$, de dimensões 3x3, o elemento $A[i][j]$ é identificado pela linha $i$ e coluna $j$.\n",
        "\n",
        "\\begin{equation*}\n",
        "\n",
        "A = \\begin{bmatrix}\n",
        "1 & 2 & 3 \\\\\n",
        "4 & 5 & 6 \\\\\n",
        "7 & 8 & 9\n",
        "\n",
        "\\end{bmatrix}\n",
        "\n",
        "\\end{equation*}\n",
        "\n",
        "Assim, o elemento $A_{1,2}$ da matriz $A$ é igual a **2**.\n",
        "\n",
        "Essa estrutura também está suscetível a algumas operações, como a multiplicação entre matrizes, que será utilizada como objeto de estudo.\n",
        "\n",
        "A **multiplicação de matrizes** é uma operação que corresponde ao  produto de duas matrizes $A$ e $B$, para produzir uma terceira matriz $C$. Para calcular o elemento $C_{i,j}$ da matriz resultante $C$, devemos multiplicar os elementos da linha $i$ da matriz $A$ pelos elementos da coluna $j$ da matriz $B$, somando os produtos. Matematicamente, isso pode ser expresso como:\n",
        "\n",
        "\\begin{equation*}\n",
        "C_{i,j} = A_{i,1} \\cdot B_{1,j} + A_{i,2} \\cdot B_{2,j} + \\ldots + A_{i,n} \\cdot B_{n,j}\n",
        "\\end{equation*}\n",
        "\n",
        "Esse processo é repetido para todos os elementos da matriz resultante $C$, e o resultado é uma nova matriz que é o produto das matrizes $A$ e $B$, com a quantidade colunas de $A$ e linhas de $B$, assim como veremos nos algoritmos implementados a seguir."
      ]
    },
    {
      "cell_type": "markdown",
      "metadata": {},
      "source": [
        "### **5. Algoritmos e implementações** "
      ]
    },
    {
      "cell_type": "markdown",
      "metadata": {},
      "source": [
        "#### **5.1. Importando recursos**\n",
        "\n",
        "Para a implementação dos algoritmos a seguir utilizaremos as seguintes bibliotecas:\n",
        "\n",
        "* **numpy:** Biblioteca em Python que fornece suporte para arrays multidimensionais e funções matemáticas de alto desempenho para manipulação de dados numéricos;\n",
        "* **numba:** Biblioteca em Python que oferece uma forma de acelerar código Python usando compilação just-in-time (JIT);\n",
        "* **time:** Biblioteca em Python utilizada para lidar com operações relacionadas ao tempo, como o tempo de execução de algoritmos;\n",
        "\n",
        "A biblioteca **Numba** terá um importante papel na implementação multithread com python, sendo revisitada posteriormente"
      ]
    },
    {
      "cell_type": "code",
      "execution_count": 1,
      "metadata": {
        "trusted": true
      },
      "outputs": [],
      "source": [
        "import numba as nb\n",
        "import numpy as np\n",
        "import time"
      ]
    },
    {
      "cell_type": "markdown",
      "metadata": {},
      "source": [
        "#### **5.2. Criando matrizes**\n",
        "\n",
        "Nesse estudo serão utilizadas matrizes de inteiros construídas de forma randômica através da função **_get_random_matrix_**, que utiliza a função **_random_**, da biblioteca **NumPy**. Para fins de estudos todos os elementos irão possuir um valor fixado entre 1 e 10. Além das matrizes randômicas, também iremos utilizar matrizes inicializadas com zeros por meio da função **_initialize_matrix_**, necessária para garantir que todos os elementos da matriz resultante tenham um valor inicial conhecido e consistente.\n",
        "\n",
        "Vale ressaltar que para ocorrer a multiplicação entre matrizes a quantidade de linhas de $A$ e colunas de $B$ deve possuir o mesmo valor, seguindo a propriedade a seguir:\n",
        "\n",
        "\\begin{equation*}\n",
        "[A_{m \\times n}] \\cdot [B_{n \\times p}] = [C_{m \\times p}]\n",
        "\\end{equation*}\n",
        "\n",
        "Desse modo, para satisfazer essa condição, iremos utilizar a variável **_cond_** para garantir que ambas as matrizes criadas obedeçam essa propriedade."
      ]
    },
    {
      "cell_type": "code",
      "execution_count": 2,
      "metadata": {
        "trusted": true
      },
      "outputs": [],
      "source": [
        "def get_random_matrix(rows, cols):\n",
        "    # Cria matrizes aleatórias com valores 1 e 10\n",
        "    return np.random.randint(1, 11, size = (rows, cols))"
      ]
    },
    {
      "cell_type": "code",
      "execution_count": 3,
      "metadata": {},
      "outputs": [],
      "source": [
        "# Limite para o tamanho das matrizes\n",
        "limit = 1000\n",
        "\n",
        "# Condição para existencia do produto\n",
        "cond = np.random.randint(2, limit)\n",
        "\n",
        "# Cria matrizes de tamanhos aleatórios\n",
        "matrix1 = get_random_matrix(np.random.randint(2, limit), cond)\n",
        "matrix2 = get_random_matrix(cond, np.random.randint(2, limit))"
      ]
    },
    {
      "cell_type": "markdown",
      "metadata": {},
      "source": [
        "#### **5.3. Matriz resultante**\n",
        "\n",
        "Com a finalidade de facilitar a visualização de cada resultado em diferentes implementações, será utilizado um objeto **_Resultante_** para armazenar os dados obtidos em cada execução, composto por:\n",
        "\n",
        "* **matrix:** matriz resultante;\n",
        "* **process_time:** tempo de execução;\n",
        "* **P:** quantidade de elementos que serão processados em cada thread ou processo criado.\n",
        "\n",
        "Onde **_P_** receberá valor **-1** caso seja uma execução sequencial."
      ]
    },
    {
      "cell_type": "code",
      "execution_count": 4,
      "metadata": {},
      "outputs": [],
      "source": [
        "class Resultante:\n",
        "    def __init__(self, matrix, process_time, P = -1):\n",
        "        self.matrix = matrix\n",
        "        self.process_time = process_time\n",
        "        self.P = P"
      ]
    },
    {
      "cell_type": "markdown",
      "metadata": {},
      "source": [
        "### **6. Implementação Sequencial**\n",
        "\n",
        "A implementação sequencial a seguir é responsável por multiplicar duas matrizes, **_matrix1_** e **_matrix2_**, de acordo com o algoritmo tradicional de multiplicação utilizando três loops aninhados. O primeiro loop (**_i_**) itera pelas linhas da matriz resultante, o segundo loop (**_j_**) itera pelas colunas da matriz resultante e o terceiro loop (**_k_**) itera pelas colunas da primeira matriz e pelas linhas da segunda matriz. Durante cada iteração, os elementos correspondentes das matrizes de entrada são multiplicados e acumulados no elemento correspondente da matriz resultante.\n",
        "\n",
        "Após a conclusão da multiplicação, o tempo total de execução é calculado e é retornado um objeto **_Resultante_** que contém a matriz resultante e o tempo total de execução."
      ]
    },
    {
      "cell_type": "code",
      "execution_count": 5,
      "metadata": {},
      "outputs": [],
      "source": [
        "def sequential_multiplication(matrix1, matrix2):\n",
        "    # Inicializa a matriz resultante com 0\n",
        "    matrix_result = np.zeros((matrix1.shape[0], matrix2.shape[1]))\n",
        "    \n",
        "    # Inicializa a contagem de tempo\n",
        "    start = time.time()\n",
        "\n",
        "    # Realiza a multiplicação de matrizes\n",
        "    for i in range(matrix1.shape[0]):\n",
        "        for j in range(matrix2.shape[1]):\n",
        "            for k in range(matrix1.shape[1]):\n",
        "                matrix_result[i][j] += matrix1[i][k] * matrix2[k][j]\n",
        "                \n",
        "    # Finaliza a contagem de tempo\n",
        "    end = time.time()\n",
        "\n",
        "    # Tempo total de execução\n",
        "    total_time = end - start\n",
        "\n",
        "    # Cria o objeto resultante\n",
        "    result = Resultante(matrix_result, total_time)\n",
        "\n",
        "    return result"
      ]
    },
    {
      "cell_type": "markdown",
      "metadata": {},
      "source": [
        "### **7. Implementação com Threads**"
      ]
    },
    {
      "cell_type": "markdown",
      "metadata": {},
      "source": [
        "#### **7.1. Multithread e o Global Interpreter Lock (GIL)**\n",
        "\n",
        "O Python possui uma maneira diferente de lidar com variáveis criadas em ambiente, considerando-as apenas como uma marcação para referência do local em memória. Assim, ao atribuir novas variáveis, o que realmente ocorre é apenas uma passagem de endereços em memória, sem uma tipagem real.\n",
        "\n",
        "Essa abordagem permitiu ao Python adquirir flexibilidade com a passagem e atribuição de variáveis, no entanto, também acarretou num sério problema de memory safety, observável quando dois ou mais processos tentam acessar a mesma variável, causando uma condição de corrida.\n",
        "\n",
        "Para solucionar o problema anterior sem perder a flexibilidade, o Python optou por implementar o Python Global Interpreter Lock (GIL), que funciona como um bloqueio de processo, utilizado para garantir a integridade da aplicação que está sendo executada ao travar parte da aplicação para garantir que apenas uma chamada tenha acesso à memória por vez. Desse modo, ao bloquear parte da execução do programa também temos uma perda significativa de desempenho ao executar processos em multithread, uma vez que teremos uma série de interrupções, resultando num desempenho semelhante a uma aplicação single-thread."
      ]
    },
    {
      "cell_type": "markdown",
      "metadata": {},
      "source": [
        "#### **7.2. Biblioteca Numba**\n",
        "\n",
        "Para contornar o uso do GIL e permitir o processamento em multithread é comum recorrer técnicas e bibliotecas que ofereçam um compilador alternativo, como o Numba. O Numba é uma biblioteca que traz um compilador just-in-time (JIT) para o Python, projetado para melhorar o desempenho de aplicações compilando o código-fonte diretamente para código de máquina em tempo de execução, usando a infraestrutura do compilador LLVM (Low Level Virtual Machine). \n",
        "\n",
        "Essa prática permite alcançar desempenho semelhante ao C ou C++ sem a necessidade de alterar o código inicial, além de também suportar aceleração por GPU, como a utiliza na API CUDA, da NVidea. \n",
        "\n",
        "Para utilizar a biblioteca Numba devemos adicionar um decorator _@jit_, que designa que a função deve ser compilada através do JIT, além de conter outros atributos, sendo eles:\n",
        "\n",
        "* **_noPython:_** Sinaliza que a função deve ser executada sem utilizar o interpretador padrão do Python;\n",
        "* **_nogil:_** Indica que o GIL deve ser liberado durante a execução, alcançando o uso efetivo das múltiplas threads do sistema;\n",
        "* **_parallel:_** Sinaliza que a função deve utilizar execução paralela;\n",
        "* **_cache:_** Explicita que o compilador deve armazenara função em memória cache, evitando que o código seja recompilado em execuções posteriores.\n",
        "\n",
        "O Numba por padrão está configurado para utilizar o máximo de threads disponíveis no sistema, descartando a necessidade de configurá-las. Ao final o decorator deve possuir uma sintaxe semelhante a apresentada a seguir:\n",
        "\n",
        "~~~python\n",
        "@nb.jit(nopython=True, parallel=True, nogil=True, cache=True)\n",
        "def multiply_submatrix(submatrix1, submatrix2):\n",
        "~~~"
      ]
    },
    {
      "cell_type": "markdown",
      "metadata": {},
      "source": [
        "#### **7.3. Implementação em Python**"
      ]
    },
    {
      "cell_type": "markdown",
      "metadata": {},
      "source": [
        "A implementação do algoritmo de multiplicação de matrizes com threads segue uma abordagem que utiliza a biblioteca Numba para contornar as limitações do Python, incluindo o Global Interpreter Lock (GIL), que impede a execução simultânea de código Python por várias threads.\n",
        "\n",
        "O código foi dividido em duas funções, sendo **_multiply_submatrix_** a função é responsável por realizar a multiplicação de submatrizes de forma paralela com a paralelização do Numba e a **_parallel_multiplication_**, que realiza a multiplicação de matrizes em paralelo dividindo o cálculo em blocos de tamanho PxP de submatrizes, que ao final são combinadas para formar a matriz resultante final."
      ]
    },
    {
      "cell_type": "code",
      "execution_count": 6,
      "metadata": {},
      "outputs": [],
      "source": [
        "# Função para multiplicação de submatrizes em paralelo com Numba\n",
        "@nb.jit(nopython=True, parallel=True, nogil=True, cache=True)\n",
        "def multiply_submatrix(submatrix1, submatrix2):\n",
        "    # Submatriz criada para o calculo\n",
        "    subresult = np.zeros((submatrix1.shape[0], submatrix2.shape[1]))\n",
        "\n",
        "    for i in nb.prange(submatrix1.shape[0]):\n",
        "        for j in nb.prange(submatrix2.shape[1]):\n",
        "            for k in range(submatrix1.shape[1]):\n",
        "                subresult[i][j] += submatrix1[i][k] * submatrix2[k][j]\n",
        "    \n",
        "    return subresult"
      ]
    },
    {
      "cell_type": "code",
      "execution_count": 7,
      "metadata": {
        "trusted": true
      },
      "outputs": [],
      "source": [
        "# Função de multiplicação de matrizes paralelizada\n",
        "def parallel_multiplication(matrix1, matrix2, P):\n",
        "    # Inicializa a matriz resultante\n",
        "    matrix_result = np.zeros((matrix1.shape[0], matrix2.shape[1]))\n",
        "    \n",
        "    # Inicializa a contagem de tempo\n",
        "    start = time.time()\n",
        "\n",
        "    # Realiza a multiplicação de matrizes em paralelo com blocos de tamanho PxP\n",
        "    for i in nb.prange(0, matrix1.shape[0], P):\n",
        "        for j in nb.prange(0, matrix2.shape[1], P):\n",
        "\n",
        "            submatrix1 = matrix1[i:i+P, :]\n",
        "            submatrix2 = matrix2[:, j:j+P]\n",
        "\n",
        "            subresult = multiply_submatrix(submatrix1, submatrix2)\n",
        "\n",
        "            matrix_result[i:i+P, j:j+P] = subresult\n",
        "\n",
        "    end = time.time()\n",
        "\n",
        "    # Tempo total de execução\n",
        "    total_time = end - start\n",
        "\n",
        "    # Cria o objeto resultante\n",
        "    result = Resultante(matrix_result, total_time)\n",
        "\n",
        "    return result\n"
      ]
    },
    {
      "cell_type": "code",
      "execution_count": 8,
      "metadata": {},
      "outputs": [
        {
          "name": "stdout",
          "output_type": "stream",
          "text": [
            "[[ 932.  996.  924. ...  971. 1007.  962.]\n",
            " [ 997. 1040.  892. ... 1097. 1055. 1121.]\n",
            " [ 859.  933.  658. ...  901.  786.  839.]\n",
            " ...\n",
            " [1031. 1097. 1024. ... 1101. 1124. 1112.]\n",
            " [ 946.  846.  712. ...  869. 1014.  970.]\n",
            " [ 862.  925.  859. ...  974. 1009.  906.]]\n",
            "2.2042086124420166\n",
            "\n",
            "\n"
          ]
        },
        {
          "name": "stdout",
          "output_type": "stream",
          "text": [
            "[[ 932.  996.  924. ...  971. 1007.  962.]\n",
            " [ 997. 1040.  892. ... 1097. 1055. 1121.]\n",
            " [ 859.  933.  658. ...  901.  786.  839.]\n",
            " ...\n",
            " [1031. 1097. 1024. ... 1101. 1124. 1112.]\n",
            " [ 946.  846.  712. ...  869. 1014.  970.]\n",
            " [ 862.  925.  859. ...  974. 1009.  906.]]\n",
            "27.01604151725769\n"
          ]
        }
      ],
      "source": [
        "result = parallel_multiplication(matrix1, matrix2, 50)\n",
        "print(result.matrix)\n",
        "print(result.process_time)\n",
        "\n",
        "print(\"\\n\")\n",
        "\n",
        "result_1 = sequential_multiplication(matrix1, matrix2)\n",
        "print(result_1.matrix)\n",
        "print(result_1.process_time)"
      ]
    },
    {
      "cell_type": "markdown",
      "metadata": {},
      "source": [
        "### **8. Implementação com processos**"
      ]
    }
  ],
  "metadata": {
    "kernelspec": {
      "display_name": "Python 3",
      "language": "python",
      "name": "python3"
    },
    "language_info": {
      "codemirror_mode": {
        "name": "ipython",
        "version": 3
      },
      "file_extension": ".py",
      "mimetype": "text/x-python",
      "name": "python",
      "nbconvert_exporter": "python",
      "pygments_lexer": "ipython3",
      "version": "3.11.5"
    }
  },
  "nbformat": 4,
  "nbformat_minor": 4
}
