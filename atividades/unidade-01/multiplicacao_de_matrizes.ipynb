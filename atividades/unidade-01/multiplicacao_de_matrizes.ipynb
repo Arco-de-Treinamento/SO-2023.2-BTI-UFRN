{
 "cells": [
  {
   "cell_type": "markdown",
   "metadata": {
    "tags": []
   },
   "source": [
    "## **Multiplicação de Matrizes:** Implementação _sequencial_, _Multithreading_ e _Multiprocessos_.\n",
    "\n",
    "***\n",
    "\n",
    "Este projeto visa observar as diferenças entre a implementação de algoritmos utilizando as abordagens sequencial, Multithreading e Multiprocessos, realizando testes de implementação e comparativos em termos de desempenho utilizando a linguagem **Python**, para a disciplina **Sistemas Operacionais** do curso de Bacharelado em Tecnologia da Informação, oferecido pela Universidade Federal do Rio Grande do Norte.\n",
    "\n",
    "**Desenvolvido por:** José Manoel Freitas da Silva\n",
    "\n",
    "***"
   ]
  },
  {
   "cell_type": "markdown",
   "metadata": {},
   "source": [
    "### **1. Introdução**\n",
    "\n",
    "A multiplicação de matrizes é uma operação fundamental em álgebra linear que desempenha um papel crucial em diversos campos da ciência da computação, engenharia e ciências exatas. Uma das principais vantagens da utilização desse método é a sua natureza altamente paralelizável, uma vez que multiplicação de matrizes é bastante suscetível à distribuição de tarefas, seja por meio de threads, em um ambiente multithread, ou por processos. Além disso, a multiplicação de matrizes pode ser escalada para grandes conjuntos de dados e dimensões, o que a torna relevante para problemas de alta complexidade encontrados em pesquisa científica e aplicações industriais.\n",
    "\n",
    "Desse modo, iremos utilizar de uma de suas propriedades, chamada **independência de dados**, que nos permite calcular cada elemento da matriz resultante de forma independente dos demais dados da matriz, para implementar diversos conceitos da multiprogramação e analisar questões fundamentais de desempenho e otimização algorítmica, ressaltando a sua importância prática e sua capacidade de aproveitar ao máximo os recursos computacionais modernos. "
   ]
  },
  {
   "cell_type": "markdown",
   "metadata": {},
   "source": [
    "### **2. Metodologia**\n",
    "\n",
    "Para esse projeto será feito 3 implementações, sendo elas:\n",
    "\n",
    "* Uma implementação **Sequencial**, sem a utilização de multiprocessos ou multithreading;\n",
    "* Uma implementação utilizando **Threads**;\n",
    "* Uma implementação utilizando **Processos**.\n",
    "\n",
    "Cada uma das implementações receberá duas matrizes **M1** e **M2** de tamanho **C**x**L** variados, com valores e dimensões randomizadas por meio de um algorítimo auxiliar implementado em **Python**. Para as implementações em multiprocessamento será utilizado ainda uma segunda variável **P**, que determina a quantidade de elementos que serão processados em cada thread ou processo criado, de modo a evitar problemas oriundos do excesso de processos abertos, frequentemente vistos em matrizes consideravelmente grandes.\n",
    "\n",
    "Para quantificar o desempenho de cada implementação será medido o tempo de execução em cada uma das metodologias, realizando a plotagem de gráficos de desempenho com o intuito de visualizar o **tempo médio geral** e o **tempo médio em função de P**."
   ]
  },
  {
   "cell_type": "markdown",
   "metadata": {},
   "source": [
    "### **3. Considerações iniciais**\n",
    "\n",
    "Nesse projeto, devido ao seu caráter analítico, será utilizado a linguagem de programação **Python**, aliada ao **Jupyter Notebook**, onde iremos observar o comportamento de diferentes formas de implementação de um mesmo algoritmo com o intuito de analisar as vantagens e desvantagens de **aplicações sequenciais** e **paralelas**.\n",
    "\n",
    "A escolha dessas duas ferramentas se deve ao fato de permitir produzir gráficos e relatórios com facilidade quando utilizadas em conjunto com algumas bibliotecas, como a _multiprocessing_, _threading_,_matplotlib_ e a _numpy_, que terá um papel fundamental na criação de objetos e elementos utilizados durante os testes."
   ]
  },
  {
   "cell_type": "markdown",
   "metadata": {},
   "source": [
    "### **4. Multiplicação de matrizes**"
   ]
  },
  {
   "cell_type": "markdown",
   "metadata": {},
   "source": [
    "#### **4.1. Operações entre matrizes**\n",
    "\n",
    "Uma matriz pode ser definida como uma estrutura matemática que organiza elementos em **linhas** e **colunas**, formando uma grade bidimensional. Nela cada elemento é identificado por sua posição única na matriz através do índice de linhas e colunas. Por exemplo, na matriz $A$, de dimensões 3x3, o elemento $A[i][j]$ é identificado pela linha $i$ e coluna $j$.\n",
    "\n",
    "\\begin{equation*}\n",
    "\n",
    "A = \\begin{bmatrix}\n",
    "1 & 2 & 3 \\\\\n",
    "4 & 5 & 6 \\\\\n",
    "7 & 8 & 9\n",
    "\n",
    "\\end{bmatrix}\n",
    "\n",
    "\\end{equation*}\n",
    "\n",
    "Assim, o elemento $A_{1,2}$ da matriz $A$ é igual a **2**.\n",
    "\n",
    "Essa estrutura também está suscetível a algumas operações, como a multiplicação entre matrizes, que será utilizada como objeto de estudo.\n",
    "\n",
    "A **multiplicação de matrizes** é uma operação que corresponde ao  produto de duas matrizes $A$ e $B$, para produzir uma terceira matriz $C$. Para calcular o elemento $C_{i,j}$ da matriz resultante $C$, devemos multiplicar os elementos da linha $i$ da matriz $A$ pelos elementos da coluna $j$ da matriz $B$, somando os produtos. Matematicamente, isso pode ser expresso como:\n",
    "\n",
    "\\begin{equation*}\n",
    "C_{i,j} = A_{i,1} \\cdot B_{1,j} + A_{i,2} \\cdot B_{2,j} + \\ldots + A_{i,n} \\cdot B_{n,j}\n",
    "\\end{equation*}\n",
    "\n",
    "Esse processo é repetido para todos os elementos da matriz resultante $C$, e o resultado é uma nova matriz que é o produto das matrizes $A$ e $B$, com a quantidade colunas de $A$ e linhas de $B$, assim como veremos nos algoritmos implementados a seguir."
   ]
  },
  {
   "cell_type": "markdown",
   "metadata": {},
   "source": [
    "### **5. Algoritmos e implementações** "
   ]
  },
  {
   "cell_type": "markdown",
   "metadata": {},
   "source": [
    "#### **5.1. Importando recursos**\n",
    "\n",
    "Para a implementação dos algoritmos a seguir utilizaremos as seguintes bibliotecas:\n",
    "\n",
    "* **numpy:** Biblioteca em Python que fornece suporte para arrays multidimensionais e funções matemáticas de alto desempenho para manipulação de dados numéricos;\n",
    "* **time:** Biblioteca em Python utilizada para lidar com operações relacionadas ao tempo, como o tempo de execução de algoritmos;"
   ]
  },
  {
   "cell_type": "code",
   "execution_count": 176,
   "metadata": {},
   "outputs": [],
   "source": [
    "import numpy as np\n",
    "import time"
   ]
  },
  {
   "cell_type": "markdown",
   "metadata": {},
   "source": [
    "#### **5.2. Criando matrizes**\n",
    "\n",
    "Nesse estudo serão utilizadas matrizes de inteiros construídas de forma randômica através da função **_get_random_matrix_**, que utiliza a função **_random_**, da biblioteca **NumPy**. Para fins de estudos todos os elementos irão possuir um valor fixado entre 1 e 10. Além das matrizes randômicas, também iremos utilizar matrizes inicializadas com zeros por meio da função **_initialize_matrix_**, necessária para garantir que todos os elementos da matriz resultante tenham um valor inicial conhecido e consistente.\n",
    "\n",
    "Vale ressaltar que para ocorrer a multiplicação entre matrizes a quantidade de linhas de $A$ e colunas de $B$ deve possuir o mesmo valor, seguindo a propriedade a seguir:\n",
    "\n",
    "\\begin{equation*}\n",
    "[A_{m \\times n}] \\cdot [B_{n \\times p}] = [C_{m \\times p}]\n",
    "\\end{equation*}\n",
    "\n",
    "Desse modo, para satisfazer essa condição, iremos utilizar a variável **_cond_** para garantir que ambas as matrizes criadas obedeçam essa propriedade."
   ]
  },
  {
   "cell_type": "code",
   "execution_count": 177,
   "metadata": {},
   "outputs": [],
   "source": [
    "def get_random_matrix(rows, cols):\n",
    "    # Cria matrizes aleatórias com valores 1 e 10\n",
    "    return np.random.randint(1, 11, size = (rows, cols))"
   ]
  },
  {
   "cell_type": "code",
   "execution_count": 178,
   "metadata": {},
   "outputs": [],
   "source": [
    "def initialize_matrix(rows, cols):\n",
    "    return np.zeros((rows, cols))"
   ]
  },
  {
   "cell_type": "code",
   "execution_count": 179,
   "metadata": {},
   "outputs": [],
   "source": [
    "# Limite para o tamanho das matrizes\n",
    "limit = 10"
   ]
  },
  {
   "cell_type": "code",
   "execution_count": 180,
   "metadata": {},
   "outputs": [
    {
     "name": "stdout",
     "output_type": "stream",
     "text": [
      "Matriz 1 de tamanho (9, 7)\n",
      "[[ 2  9  3  2  4  4  8]\n",
      " [10  7  7  3  4  7  1]\n",
      " [ 5  7  8  8  2  7  5]\n",
      " [ 3  2 10  2  4  5  5]\n",
      " [ 4  6  2  9 10  5  5]\n",
      " [ 3  4  7  4  9 10  4]\n",
      " [ 9  2  1  9  6  8  9]\n",
      " [ 5 10  4  8  5  6  7]\n",
      " [10  8  3  9  3  1  1]]\n",
      "\n",
      "\n",
      "Matriz 2 de tamanho (7, 7)\n",
      "[[ 5  2  6  8  6  9  7]\n",
      " [ 2 10  7  1 10  6  2]\n",
      " [ 4  7  2  3  9  6  2]\n",
      " [ 3  5  4  1  3  1  3]\n",
      " [ 9  1  2  3  5  6  3]\n",
      " [ 7  6  9  8  7  2  1]\n",
      " [ 9 10  1  2  6  6 10]]\n"
     ]
    }
   ],
   "source": [
    "# Condição para existencia do produto\n",
    "cond = np.random.randint(2, limit)\n",
    "\n",
    "# Cria matrizes de tamanhos aleatórios\n",
    "matrix1 = get_random_matrix(np.random.randint(2, limit), cond)\n",
    "matrix2 = get_random_matrix(cond, np.random.randint(2, limit))\n",
    "\n",
    "# Imprima as matrizes\n",
    "print(\"Matriz 1 de tamanho\", matrix1.shape)\n",
    "print(matrix1)\n",
    "print(\"\\n\")\n",
    "print(\"Matriz 2 de tamanho\", matrix2.shape)\n",
    "print(matrix2)\n"
   ]
  },
  {
   "cell_type": "markdown",
   "metadata": {},
   "source": [
    "#### **5.3. Matriz resultante**\n",
    "\n",
    "Com a finalidade de facilitar a visualização de cada resultado em diferentes implementações, será utilizado um objeto **_Resultante_** para armazenar os dados obtidos em cada execução, composto por:\n",
    "\n",
    "* **matrix:** matriz resultante;\n",
    "* **process_time:** tempo de execução;\n",
    "* **P:** quantidade de elementos que serão processados em cada thread ou processo criado.\n",
    "\n",
    "Onde **_P_** receberá valor **-1** caso seja uma execução sequencial."
   ]
  },
  {
   "cell_type": "code",
   "execution_count": 181,
   "metadata": {},
   "outputs": [],
   "source": [
    "class Resultante:\n",
    "    def __init__(self, matrix, process_time, P = -1):\n",
    "        self.matrix = matrix\n",
    "        self.process_time = process_time\n",
    "        self.P = P"
   ]
  },
  {
   "cell_type": "markdown",
   "metadata": {},
   "source": [
    "#### **5.4. Implementação Sequencial**\n",
    "\n",
    "A implementação sequencial a seguir é responsável por multiplicar duas matrizes, **_matrix1_** e **_matrix2_**, de acordo com o algoritmo tradicional de multiplicação utilizando três loops aninhados. O primeiro loop (**_i_**) itera pelas linhas da matriz resultante, o segundo loop (**_j_**) itera pelas colunas da matriz resultante e o terceiro loop (**_k_**) itera pelas colunas da primeira matriz e pelas linhas da segunda matriz. Durante cada iteração, os elementos correspondentes das matrizes de entrada são multiplicados e acumulados no elemento correspondente da matriz resultante.\n",
    "\n",
    "Após a conclusão da multiplicação, o tempo total de execução é calculado e é retornado um objeto **_Resultante_** que contém a matriz resultante e o tempo total de execução."
   ]
  },
  {
   "cell_type": "code",
   "execution_count": 182,
   "metadata": {},
   "outputs": [],
   "source": [
    "def sequential_multiplication(matrix1, matrix2):\n",
    "    # Inicializa a contagem de tempo\n",
    "    start = time.time()\n",
    "\n",
    "    # Inicializa a matriz resultante\n",
    "    matrix_result = initialize_matrix(matrix1.shape[0], matrix2.shape[1])\n",
    "\n",
    "    # Realiza a multiplicação de matrizes\n",
    "    for i in range(matrix1.shape[0]):\n",
    "        for j in range(matrix2.shape[1]):\n",
    "            for k in range(matrix1.shape[1]):\n",
    "                matrix_result[i][j] += matrix1[i][k] * matrix2[k][j]\n",
    "                \n",
    "    # Finaliza a contagem de tempo\n",
    "    end = time.time()\n",
    "\n",
    "    # Tempo total de execução\n",
    "    total_time = end - start\n",
    "\n",
    "    # Cria o objeto resultante\n",
    "    result = Resultante(matrix_result, total_time)\n",
    "\n",
    "    return result"
   ]
  },
  {
   "cell_type": "code",
   "execution_count": 183,
   "metadata": {},
   "outputs": [
    {
     "name": "stdout",
     "output_type": "stream",
     "text": [
      "[[182. 233. 141.  96. 231. 172. 140.]\n",
      " [195. 210. 207. 181. 277. 221. 136.]\n",
      " [207. 270. 199. 151. 285. 199. 152.]\n",
      " [181. 190. 118. 120. 219. 165. 118.]\n",
      " [237. 217. 176. 133. 244. 193. 156.]\n",
      " [250. 224. 188. 168. 272. 195. 132.]\n",
      " [271. 234. 199. 186. 250. 214. 212.]\n",
      " [235. 289. 211. 147. 299. 221. 178.]\n",
      " [148. 185. 174. 125. 222. 191. 139.]]\n",
      "0.018178939819335938\n",
      "-1\n"
     ]
    }
   ],
   "source": [
    "result_sequential = sequential_multiplication(matrix1, matrix2)\n",
    "\n",
    "print(result_sequential.matrix)\n",
    "print(result_sequential.process_time)\n",
    "print(result_sequential.P)"
   ]
  }
 ],
 "metadata": {
  "kernelspec": {
   "display_name": "Python 3",
   "language": "python",
   "name": "python3"
  },
  "language_info": {
   "codemirror_mode": {
    "name": "ipython",
    "version": 3
   },
   "file_extension": ".py",
   "mimetype": "text/x-python",
   "name": "python",
   "nbconvert_exporter": "python",
   "pygments_lexer": "ipython3",
   "version": "3.11.5"
  },
  "orig_nbformat": 4
 },
 "nbformat": 4,
 "nbformat_minor": 2
}
